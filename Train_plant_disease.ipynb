{
 "cells": [
  {
   "cell_type": "markdown",
   "id": "f643e851-ef5c-4ec5-9873-4001c066530d",
   "metadata": {},
   "source": [
    "## Import Libraries"
   ]
  },
  {
   "cell_type": "code",
   "execution_count": 2,
   "id": "9f3af529-cd9a-4266-b5f1-04fb8e74c1e2",
   "metadata": {},
   "outputs": [
    {
     "name": "stdout",
     "output_type": "stream",
     "text": [
      "Defaulting to user installation because normal site-packages is not writeable\n",
      "Requirement already satisfied: tensorflow in c:\\users\\user\\appdata\\local\\packages\\pythonsoftwarefoundation.python.3.12_qbz5n2kfra8p0\\localcache\\local-packages\\python312\\site-packages (2.16.2)\n",
      "Requirement already satisfied: tensorflow-intel==2.16.2 in c:\\users\\user\\appdata\\local\\packages\\pythonsoftwarefoundation.python.3.12_qbz5n2kfra8p0\\localcache\\local-packages\\python312\\site-packages (from tensorflow) (2.16.2)\n",
      "Requirement already satisfied: absl-py>=1.0.0 in c:\\users\\user\\appdata\\local\\packages\\pythonsoftwarefoundation.python.3.12_qbz5n2kfra8p0\\localcache\\local-packages\\python312\\site-packages (from tensorflow-intel==2.16.2->tensorflow) (2.1.0)\n",
      "Requirement already satisfied: astunparse>=1.6.0 in c:\\users\\user\\appdata\\local\\packages\\pythonsoftwarefoundation.python.3.12_qbz5n2kfra8p0\\localcache\\local-packages\\python312\\site-packages (from tensorflow-intel==2.16.2->tensorflow) (1.6.3)\n",
      "Requirement already satisfied: flatbuffers>=23.5.26 in c:\\users\\user\\appdata\\local\\packages\\pythonsoftwarefoundation.python.3.12_qbz5n2kfra8p0\\localcache\\local-packages\\python312\\site-packages (from tensorflow-intel==2.16.2->tensorflow) (24.3.25)\n",
      "Requirement already satisfied: gast!=0.5.0,!=0.5.1,!=0.5.2,>=0.2.1 in c:\\users\\user\\appdata\\local\\packages\\pythonsoftwarefoundation.python.3.12_qbz5n2kfra8p0\\localcache\\local-packages\\python312\\site-packages (from tensorflow-intel==2.16.2->tensorflow) (0.6.0)\n",
      "Requirement already satisfied: google-pasta>=0.1.1 in c:\\users\\user\\appdata\\local\\packages\\pythonsoftwarefoundation.python.3.12_qbz5n2kfra8p0\\localcache\\local-packages\\python312\\site-packages (from tensorflow-intel==2.16.2->tensorflow) (0.2.0)\n",
      "Requirement already satisfied: h5py>=3.10.0 in c:\\users\\user\\appdata\\local\\packages\\pythonsoftwarefoundation.python.3.12_qbz5n2kfra8p0\\localcache\\local-packages\\python312\\site-packages (from tensorflow-intel==2.16.2->tensorflow) (3.11.0)\n",
      "Requirement already satisfied: libclang>=13.0.0 in c:\\users\\user\\appdata\\local\\packages\\pythonsoftwarefoundation.python.3.12_qbz5n2kfra8p0\\localcache\\local-packages\\python312\\site-packages (from tensorflow-intel==2.16.2->tensorflow) (18.1.1)\n",
      "Requirement already satisfied: ml-dtypes~=0.3.1 in c:\\users\\user\\appdata\\local\\packages\\pythonsoftwarefoundation.python.3.12_qbz5n2kfra8p0\\localcache\\local-packages\\python312\\site-packages (from tensorflow-intel==2.16.2->tensorflow) (0.3.2)\n",
      "Requirement already satisfied: opt-einsum>=2.3.2 in c:\\users\\user\\appdata\\local\\packages\\pythonsoftwarefoundation.python.3.12_qbz5n2kfra8p0\\localcache\\local-packages\\python312\\site-packages (from tensorflow-intel==2.16.2->tensorflow) (3.3.0)\n",
      "Requirement already satisfied: packaging in c:\\users\\user\\appdata\\local\\packages\\pythonsoftwarefoundation.python.3.12_qbz5n2kfra8p0\\localcache\\local-packages\\python312\\site-packages (from tensorflow-intel==2.16.2->tensorflow) (24.0)\n",
      "Requirement already satisfied: protobuf!=4.21.0,!=4.21.1,!=4.21.2,!=4.21.3,!=4.21.4,!=4.21.5,<5.0.0dev,>=3.20.3 in c:\\users\\user\\appdata\\local\\packages\\pythonsoftwarefoundation.python.3.12_qbz5n2kfra8p0\\localcache\\local-packages\\python312\\site-packages (from tensorflow-intel==2.16.2->tensorflow) (4.25.3)\n",
      "Requirement already satisfied: requests<3,>=2.21.0 in c:\\users\\user\\appdata\\local\\packages\\pythonsoftwarefoundation.python.3.12_qbz5n2kfra8p0\\localcache\\local-packages\\python312\\site-packages (from tensorflow-intel==2.16.2->tensorflow) (2.32.3)\n",
      "Requirement already satisfied: setuptools in c:\\users\\user\\appdata\\local\\packages\\pythonsoftwarefoundation.python.3.12_qbz5n2kfra8p0\\localcache\\local-packages\\python312\\site-packages (from tensorflow-intel==2.16.2->tensorflow) (70.2.0)\n",
      "Requirement already satisfied: six>=1.12.0 in c:\\users\\user\\appdata\\local\\packages\\pythonsoftwarefoundation.python.3.12_qbz5n2kfra8p0\\localcache\\local-packages\\python312\\site-packages (from tensorflow-intel==2.16.2->tensorflow) (1.16.0)\n",
      "Requirement already satisfied: termcolor>=1.1.0 in c:\\users\\user\\appdata\\local\\packages\\pythonsoftwarefoundation.python.3.12_qbz5n2kfra8p0\\localcache\\local-packages\\python312\\site-packages (from tensorflow-intel==2.16.2->tensorflow) (2.4.0)\n",
      "Requirement already satisfied: typing-extensions>=3.6.6 in c:\\users\\user\\appdata\\local\\packages\\pythonsoftwarefoundation.python.3.12_qbz5n2kfra8p0\\localcache\\local-packages\\python312\\site-packages (from tensorflow-intel==2.16.2->tensorflow) (4.12.2)\n",
      "Requirement already satisfied: wrapt>=1.11.0 in c:\\users\\user\\appdata\\local\\packages\\pythonsoftwarefoundation.python.3.12_qbz5n2kfra8p0\\localcache\\local-packages\\python312\\site-packages (from tensorflow-intel==2.16.2->tensorflow) (1.16.0)\n",
      "Requirement already satisfied: grpcio<2.0,>=1.24.3 in c:\\users\\user\\appdata\\local\\packages\\pythonsoftwarefoundation.python.3.12_qbz5n2kfra8p0\\localcache\\local-packages\\python312\\site-packages (from tensorflow-intel==2.16.2->tensorflow) (1.64.1)\n",
      "Requirement already satisfied: tensorboard<2.17,>=2.16 in c:\\users\\user\\appdata\\local\\packages\\pythonsoftwarefoundation.python.3.12_qbz5n2kfra8p0\\localcache\\local-packages\\python312\\site-packages (from tensorflow-intel==2.16.2->tensorflow) (2.16.2)\n",
      "Requirement already satisfied: keras>=3.0.0 in c:\\users\\user\\appdata\\local\\packages\\pythonsoftwarefoundation.python.3.12_qbz5n2kfra8p0\\localcache\\local-packages\\python312\\site-packages (from tensorflow-intel==2.16.2->tensorflow) (3.4.1)\n",
      "Requirement already satisfied: numpy<2.0.0,>=1.26.0 in c:\\users\\user\\appdata\\local\\packages\\pythonsoftwarefoundation.python.3.12_qbz5n2kfra8p0\\localcache\\local-packages\\python312\\site-packages (from tensorflow-intel==2.16.2->tensorflow) (1.26.4)\n",
      "Requirement already satisfied: wheel<1.0,>=0.23.0 in c:\\users\\user\\appdata\\local\\packages\\pythonsoftwarefoundation.python.3.12_qbz5n2kfra8p0\\localcache\\local-packages\\python312\\site-packages (from astunparse>=1.6.0->tensorflow-intel==2.16.2->tensorflow) (0.43.0)\n",
      "Requirement already satisfied: rich in c:\\users\\user\\appdata\\local\\packages\\pythonsoftwarefoundation.python.3.12_qbz5n2kfra8p0\\localcache\\local-packages\\python312\\site-packages (from keras>=3.0.0->tensorflow-intel==2.16.2->tensorflow) (13.7.1)\n",
      "Requirement already satisfied: namex in c:\\users\\user\\appdata\\local\\packages\\pythonsoftwarefoundation.python.3.12_qbz5n2kfra8p0\\localcache\\local-packages\\python312\\site-packages (from keras>=3.0.0->tensorflow-intel==2.16.2->tensorflow) (0.0.8)\n",
      "Requirement already satisfied: optree in c:\\users\\user\\appdata\\local\\packages\\pythonsoftwarefoundation.python.3.12_qbz5n2kfra8p0\\localcache\\local-packages\\python312\\site-packages (from keras>=3.0.0->tensorflow-intel==2.16.2->tensorflow) (0.11.0)\n",
      "Requirement already satisfied: charset-normalizer<4,>=2 in c:\\users\\user\\appdata\\local\\packages\\pythonsoftwarefoundation.python.3.12_qbz5n2kfra8p0\\localcache\\local-packages\\python312\\site-packages (from requests<3,>=2.21.0->tensorflow-intel==2.16.2->tensorflow) (3.3.2)\n",
      "Requirement already satisfied: idna<4,>=2.5 in c:\\users\\user\\appdata\\local\\packages\\pythonsoftwarefoundation.python.3.12_qbz5n2kfra8p0\\localcache\\local-packages\\python312\\site-packages (from requests<3,>=2.21.0->tensorflow-intel==2.16.2->tensorflow) (3.7)\n",
      "Requirement already satisfied: urllib3<3,>=1.21.1 in c:\\users\\user\\appdata\\local\\packages\\pythonsoftwarefoundation.python.3.12_qbz5n2kfra8p0\\localcache\\local-packages\\python312\\site-packages (from requests<3,>=2.21.0->tensorflow-intel==2.16.2->tensorflow) (2.2.2)\n",
      "Requirement already satisfied: certifi>=2017.4.17 in c:\\users\\user\\appdata\\local\\packages\\pythonsoftwarefoundation.python.3.12_qbz5n2kfra8p0\\localcache\\local-packages\\python312\\site-packages (from requests<3,>=2.21.0->tensorflow-intel==2.16.2->tensorflow) (2024.7.4)\n",
      "Requirement already satisfied: markdown>=2.6.8 in c:\\users\\user\\appdata\\local\\packages\\pythonsoftwarefoundation.python.3.12_qbz5n2kfra8p0\\localcache\\local-packages\\python312\\site-packages (from tensorboard<2.17,>=2.16->tensorflow-intel==2.16.2->tensorflow) (3.6)\n",
      "Requirement already satisfied: tensorboard-data-server<0.8.0,>=0.7.0 in c:\\users\\user\\appdata\\local\\packages\\pythonsoftwarefoundation.python.3.12_qbz5n2kfra8p0\\localcache\\local-packages\\python312\\site-packages (from tensorboard<2.17,>=2.16->tensorflow-intel==2.16.2->tensorflow) (0.7.2)\n",
      "Requirement already satisfied: werkzeug>=1.0.1 in c:\\users\\user\\appdata\\local\\packages\\pythonsoftwarefoundation.python.3.12_qbz5n2kfra8p0\\localcache\\local-packages\\python312\\site-packages (from tensorboard<2.17,>=2.16->tensorflow-intel==2.16.2->tensorflow) (3.0.3)\n",
      "Requirement already satisfied: MarkupSafe>=2.1.1 in c:\\users\\user\\appdata\\local\\packages\\pythonsoftwarefoundation.python.3.12_qbz5n2kfra8p0\\localcache\\local-packages\\python312\\site-packages (from werkzeug>=1.0.1->tensorboard<2.17,>=2.16->tensorflow-intel==2.16.2->tensorflow) (2.1.5)\n",
      "Requirement already satisfied: markdown-it-py>=2.2.0 in c:\\users\\user\\appdata\\local\\packages\\pythonsoftwarefoundation.python.3.12_qbz5n2kfra8p0\\localcache\\local-packages\\python312\\site-packages (from rich->keras>=3.0.0->tensorflow-intel==2.16.2->tensorflow) (3.0.0)\n",
      "Requirement already satisfied: pygments<3.0.0,>=2.13.0 in c:\\users\\user\\appdata\\local\\packages\\pythonsoftwarefoundation.python.3.12_qbz5n2kfra8p0\\localcache\\local-packages\\python312\\site-packages (from rich->keras>=3.0.0->tensorflow-intel==2.16.2->tensorflow) (2.18.0)\n",
      "Requirement already satisfied: mdurl~=0.1 in c:\\users\\user\\appdata\\local\\packages\\pythonsoftwarefoundation.python.3.12_qbz5n2kfra8p0\\localcache\\local-packages\\python312\\site-packages (from markdown-it-py>=2.2.0->rich->keras>=3.0.0->tensorflow-intel==2.16.2->tensorflow) (0.1.2)\n",
      "Note: you may need to restart the kernel to use updated packages.\n"
     ]
    },
    {
     "name": "stderr",
     "output_type": "stream",
     "text": [
      "\n",
      "[notice] A new release of pip is available: 24.0 -> 24.1.1\n",
      "[notice] To update, run: C:\\Users\\USER\\AppData\\Local\\Microsoft\\WindowsApps\\PythonSoftwareFoundation.Python.3.12_qbz5n2kfra8p0\\python.exe -m pip install --upgrade pip\n"
     ]
    }
   ],
   "source": [
    "pip install tensorflow"
   ]
  },
  {
   "cell_type": "code",
   "execution_count": 1,
   "id": "391d8dec-371d-4324-b710-68f4a5da05ab",
   "metadata": {},
   "outputs": [],
   "source": [
    "import tensorflow as tf\n",
    "import matplotlib.pyplot as plt\n",
    "import pandas as pd\n",
    "import seaborn as sns"
   ]
  },
  {
   "cell_type": "markdown",
   "id": "3f1182af-4b0e-4e10-9c91-b37d42ade53e",
   "metadata": {},
   "source": [
    "## Data Preprocessing"
   ]
  },
  {
   "cell_type": "markdown",
   "id": "02c51fdb-729e-4c66-8589-c7edc68eebe0",
   "metadata": {},
   "source": [
    "### Training image preprocessing"
   ]
  },
  {
   "cell_type": "code",
   "execution_count": 5,
   "id": "489f5bea-2fc6-4fcf-ad44-60086ed84b95",
   "metadata": {},
   "outputs": [
    {
     "name": "stdout",
     "output_type": "stream",
     "text": [
      "Found 93839 files belonging to 62 classes.\n"
     ]
    }
   ],
   "source": [
    "training_set = tf.keras.utils.image_dataset_from_directory(\n",
    "    'train',\n",
    "    labels=\"inferred\",\n",
    "    label_mode=\"categorical\",\n",
    "    class_names=None,\n",
    "    color_mode=\"rgb\",\n",
    "    batch_size=32,\n",
    "    image_size=(128, 128),\n",
    "    shuffle=True,\n",
    "    seed=None, \n",
    "    validation_split=None,\n",
    "    subset=None,\n",
    "    interpolation=\"bilinear\",\n",
    "    follow_links=False,\n",
    "    crop_to_aspect_ratio=False,\n",
    "    pad_to_aspect_ratio=False,\n",
    "    verbose=True,\n",
    ")"
   ]
  },
  {
   "cell_type": "markdown",
   "id": "54a1d9a3-8975-4f30-8cac-ca7f2b106f64",
   "metadata": {},
   "source": [
    "### Validation image preprocessing"
   ]
  },
  {
   "cell_type": "code",
   "execution_count": 8,
   "id": "2a8d47fe-1710-4c90-96e8-20088c960bb0",
   "metadata": {},
   "outputs": [
    {
     "name": "stdout",
     "output_type": "stream",
     "text": [
      "Found 23174 files belonging to 62 classes.\n"
     ]
    }
   ],
   "source": [
    "validation_set = tf.keras.utils.image_dataset_from_directory(\n",
    "    'valid',\n",
    "    labels=\"inferred\",\n",
    "    label_mode=\"categorical\",\n",
    "    class_names=None,\n",
    "    color_mode=\"rgb\",\n",
    "    batch_size=32,\n",
    "    image_size=(128, 128),\n",
    "    shuffle=True,\n",
    "    seed=None, \n",
    "    validation_split=None,\n",
    "    subset=None,\n",
    "    interpolation=\"bilinear\",\n",
    "    follow_links=False,\n",
    "    crop_to_aspect_ratio=False,\n",
    "    pad_to_aspect_ratio=False,\n",
    "    verbose=True,\n",
    ")"
   ]
  },
  {
   "cell_type": "code",
   "execution_count": 10,
   "id": "f2fc67ff-4062-4ce1-a7f1-48f006447ddc",
   "metadata": {},
   "outputs": [
    {
     "data": {
      "text/plain": [
       "<_PrefetchDataset element_spec=(TensorSpec(shape=(None, 128, 128, 3), dtype=tf.float32, name=None), TensorSpec(shape=(None, 62), dtype=tf.float32, name=None))>"
      ]
     },
     "execution_count": 10,
     "metadata": {},
     "output_type": "execute_result"
    }
   ],
   "source": [
    "training_set"
   ]
  },
  {
   "cell_type": "code",
   "execution_count": 12,
   "id": "3831dd71-df1b-442d-97f9-35aabd1f9f01",
   "metadata": {},
   "outputs": [
    {
     "name": "stdout",
     "output_type": "stream",
     "text": [
      "tf.Tensor(\n",
      "[[[[194.25 195.25 199.75]\n",
      "   [194.5  196.   197.  ]\n",
      "   [197.5  200.   194.  ]\n",
      "   ...\n",
      "   [  0.     0.     0.  ]\n",
      "   [  0.     0.     0.  ]\n",
      "   [  0.     0.     0.  ]]\n",
      "\n",
      "  [[196.25 197.75 198.25]\n",
      "   [192.5  194.75 191.25]\n",
      "   [196.5  202.5  190.75]\n",
      "   ...\n",
      "   [  0.     0.     0.  ]\n",
      "   [  0.     0.     0.  ]\n",
      "   [  0.     0.     0.  ]]\n",
      "\n",
      "  [[193.5  196.25 188.25]\n",
      "   [200.25 206.25 194.5 ]\n",
      "   [153.75 160.75 143.  ]\n",
      "   ...\n",
      "   [  0.     0.     0.  ]\n",
      "   [  0.     0.     0.  ]\n",
      "   [  0.     0.     0.  ]]\n",
      "\n",
      "  ...\n",
      "\n",
      "  [[  0.     0.     0.  ]\n",
      "   [  0.     0.     0.  ]\n",
      "   [  0.     0.     0.  ]\n",
      "   ...\n",
      "   [  0.     0.     0.  ]\n",
      "   [  0.     0.     0.  ]\n",
      "   [  0.     0.     0.  ]]\n",
      "\n",
      "  [[  0.     0.     0.  ]\n",
      "   [  0.     0.     0.  ]\n",
      "   [  0.     0.     0.  ]\n",
      "   ...\n",
      "   [  0.     0.     0.  ]\n",
      "   [  0.     0.     0.  ]\n",
      "   [  0.     0.     0.  ]]\n",
      "\n",
      "  [[  0.     0.     0.  ]\n",
      "   [  0.     0.     0.  ]\n",
      "   [  0.     0.     0.  ]\n",
      "   ...\n",
      "   [  0.     0.     0.  ]\n",
      "   [  0.     0.     0.  ]\n",
      "   [  0.     0.     0.  ]]]\n",
      "\n",
      "\n",
      " [[[107.    95.   119.  ]\n",
      "   [103.5   91.5  115.5 ]\n",
      "   [102.5   90.5  114.5 ]\n",
      "   ...\n",
      "   [101.75  93.75 117.75]\n",
      "   [ 97.75  89.75 113.75]\n",
      "   [105.25  97.25 121.25]]\n",
      "\n",
      "  [[104.5   92.5  116.5 ]\n",
      "   [ 95.5   83.5  107.5 ]\n",
      "   [ 95.    83.   107.  ]\n",
      "   ...\n",
      "   [107.75  99.75 123.75]\n",
      "   [ 97.5   89.5  113.5 ]\n",
      "   [108.75 100.75 124.75]]\n",
      "\n",
      "  [[105.5   93.5  115.5 ]\n",
      "   [102.25  90.25 112.25]\n",
      "   [103.75  91.75 113.75]\n",
      "   ...\n",
      "   [ 95.    87.   111.  ]\n",
      "   [102.75  94.75 118.75]\n",
      "   [ 96.    88.   112.  ]]\n",
      "\n",
      "  ...\n",
      "\n",
      "  [[203.75 204.75 222.75]\n",
      "   [182.5  183.5  201.5 ]\n",
      "   [206.25 205.25 223.25]\n",
      "   ...\n",
      "   [159.5  159.5  185.5 ]\n",
      "   [159.   159.   185.  ]\n",
      "   [155.5  155.5  181.5 ]]\n",
      "\n",
      "  [[203.75 204.75 222.75]\n",
      "   [176.   177.   195.  ]\n",
      "   [204.75 203.75 219.75]\n",
      "   ...\n",
      "   [156.25 156.25 182.25]\n",
      "   [155.75 155.75 181.75]\n",
      "   [152.25 152.25 178.25]]\n",
      "\n",
      "  [[186.5  187.5  205.5 ]\n",
      "   [200.25 201.25 219.25]\n",
      "   [180.5  179.5  197.5 ]\n",
      "   ...\n",
      "   [150.25 150.25 176.25]\n",
      "   [147.75 147.75 173.75]\n",
      "   [146.25 146.25 172.25]]]\n",
      "\n",
      "\n",
      " [[[168.5  148.5  147.5 ]\n",
      "   [167.5  147.5  146.5 ]\n",
      "   [171.   151.   150.  ]\n",
      "   ...\n",
      "   [177.5  157.5  156.5 ]\n",
      "   [177.   157.   156.  ]\n",
      "   [175.5  155.5  154.5 ]]\n",
      "\n",
      "  [[158.75 138.75 137.75]\n",
      "   [150.5  130.5  129.5 ]\n",
      "   [157.75 137.75 136.75]\n",
      "   ...\n",
      "   [175.5  155.5  154.5 ]\n",
      "   [175.5  155.5  154.5 ]\n",
      "   [174.   154.   153.  ]]\n",
      "\n",
      "  [[153.   133.   132.  ]\n",
      "   [150.   130.   129.  ]\n",
      "   [158.   138.   137.  ]\n",
      "   ...\n",
      "   [174.5  154.5  153.5 ]\n",
      "   [168.25 148.25 147.25]\n",
      "   [166.25 146.25 145.25]]\n",
      "\n",
      "  ...\n",
      "\n",
      "  [[138.25 119.25 121.25]\n",
      "   [144.   125.   127.  ]\n",
      "   [137.5  118.5  120.5 ]\n",
      "   ...\n",
      "   [142.25 131.5  128.75]\n",
      "   [147.   133.25 138.5 ]\n",
      "   [152.75 136.75 147.75]]\n",
      "\n",
      "  [[129.   110.   112.  ]\n",
      "   [143.   124.   126.  ]\n",
      "   [137.25 118.25 120.25]\n",
      "   ...\n",
      "   [150.5  135.25 137.  ]\n",
      "   [152.   136.   137.75]\n",
      "   [151.25 135.5  136.25]]\n",
      "\n",
      "  [[145.   126.   128.  ]\n",
      "   [138.   119.   121.  ]\n",
      "   [142.75 123.75 125.75]\n",
      "   ...\n",
      "   [146.5  127.75 130.25]\n",
      "   [145.75 128.   124.25]\n",
      "   [143.5  129.25 120.25]]]\n",
      "\n",
      "\n",
      " ...\n",
      "\n",
      "\n",
      " [[[165.5  157.5  172.5 ]\n",
      "   [153.25 145.25 160.25]\n",
      "   [151.5  143.5  158.5 ]\n",
      "   ...\n",
      "   [140.75 130.75 141.75]\n",
      "   [147.   137.   148.  ]\n",
      "   [143.75 133.75 144.75]]\n",
      "\n",
      "  [[167.   159.   174.  ]\n",
      "   [166.75 158.75 173.75]\n",
      "   [161.5  153.5  168.5 ]\n",
      "   ...\n",
      "   [165.75 155.75 166.75]\n",
      "   [139.75 129.75 140.75]\n",
      "   [135.75 125.75 136.75]]\n",
      "\n",
      "  [[163.5  155.5  170.5 ]\n",
      "   [159.   151.   166.  ]\n",
      "   [159.5  151.5  166.5 ]\n",
      "   ...\n",
      "   [136.5  126.5  137.5 ]\n",
      "   [152.5  142.5  153.5 ]\n",
      "   [141.   131.   142.  ]]\n",
      "\n",
      "  ...\n",
      "\n",
      "  [[128.75 116.75 130.75]\n",
      "   [142.25 130.25 144.25]\n",
      "   [145.   133.   147.  ]\n",
      "   ...\n",
      "   [130.5  118.5  130.5 ]\n",
      "   [128.75 116.75 128.75]\n",
      "   [128.5  116.5  128.5 ]]\n",
      "\n",
      "  [[136.   124.   138.  ]\n",
      "   [137.   125.   139.  ]\n",
      "   [135.25 123.25 137.25]\n",
      "   ...\n",
      "   [123.5  111.5  123.5 ]\n",
      "   [132.75 120.75 132.75]\n",
      "   [131.75 119.75 131.75]]\n",
      "\n",
      "  [[130.5  118.5  132.5 ]\n",
      "   [142.5  130.5  144.5 ]\n",
      "   [140.5  128.5  142.5 ]\n",
      "   ...\n",
      "   [127.75 115.75 127.75]\n",
      "   [139.5  127.5  139.5 ]\n",
      "   [143.25 131.25 143.25]]]\n",
      "\n",
      "\n",
      " [[[187.5  179.5  192.5 ]\n",
      "   [170.25 162.25 175.25]\n",
      "   [149.5  141.5  154.5 ]\n",
      "   ...\n",
      "   [129.75 122.75 138.75]\n",
      "   [129.5  122.5  138.5 ]\n",
      "   [138.   131.   147.  ]]\n",
      "\n",
      "  [[164.5  156.5  169.5 ]\n",
      "   [153.25 145.25 158.25]\n",
      "   [163.25 155.25 168.25]\n",
      "   ...\n",
      "   [116.25 109.25 125.25]\n",
      "   [125.5  118.5  134.5 ]\n",
      "   [124.5  117.5  133.5 ]]\n",
      "\n",
      "  [[182.   174.   187.  ]\n",
      "   [175.   167.   180.  ]\n",
      "   [162.   154.   167.  ]\n",
      "   ...\n",
      "   [124.75 117.75 133.75]\n",
      "   [132.25 125.25 141.25]\n",
      "   [134.25 127.25 143.25]]\n",
      "\n",
      "  ...\n",
      "\n",
      "  [[179.   181.   193.  ]\n",
      "   [181.25 183.25 195.25]\n",
      "   [202.5  204.5  216.5 ]\n",
      "   ...\n",
      "   [133.75 135.75 158.75]\n",
      "   [140.75 142.75 165.75]\n",
      "   [135.   137.   160.  ]]\n",
      "\n",
      "  [[195.   197.   209.  ]\n",
      "   [186.   188.   200.  ]\n",
      "   [192.25 194.25 206.25]\n",
      "   ...\n",
      "   [143.5  145.5  168.5 ]\n",
      "   [142.5  144.5  167.5 ]\n",
      "   [144.5  146.5  169.5 ]]\n",
      "\n",
      "  [[197.75 199.75 211.75]\n",
      "   [198.25 200.25 212.25]\n",
      "   [198.   200.   212.  ]\n",
      "   ...\n",
      "   [131.   133.   156.  ]\n",
      "   [149.25 151.25 174.25]\n",
      "   [145.25 147.25 170.25]]]\n",
      "\n",
      "\n",
      " [[[ 86.5   76.25  76.25]\n",
      "   [ 90.25  80.    78.75]\n",
      "   [ 82.25  72.75  71.75]\n",
      "   ...\n",
      "   [ 87.25  78.    77.5 ]\n",
      "   [ 90.5   81.25  80.5 ]\n",
      "   [ 88.75  79.5   78.75]]\n",
      "\n",
      "  [[163.   152.   150.  ]\n",
      "   [166.   155.   153.  ]\n",
      "   [178.25 167.25 165.25]\n",
      "   ...\n",
      "   [165.   155.   154.  ]\n",
      "   [176.25 166.25 165.25]\n",
      "   [173.   163.   162.  ]]\n",
      "\n",
      "  [[150.   136.   135.  ]\n",
      "   [177.5  163.5  162.5 ]\n",
      "   [173.   159.   158.  ]\n",
      "   ...\n",
      "   [159.   149.   148.  ]\n",
      "   [168.   158.   157.  ]\n",
      "   [168.25 158.25 157.25]]\n",
      "\n",
      "  ...\n",
      "\n",
      "  [[177.25 165.25 165.25]\n",
      "   [165.5  153.5  153.5 ]\n",
      "   [164.   152.   152.  ]\n",
      "   ...\n",
      "   [168.   157.   161.  ]\n",
      "   [164.   153.   157.  ]\n",
      "   [163.75 152.75 156.75]]\n",
      "\n",
      "  [[168.75 156.75 156.75]\n",
      "   [157.75 145.75 145.75]\n",
      "   [167.   155.   155.  ]\n",
      "   ...\n",
      "   [171.25 160.25 164.25]\n",
      "   [165.75 154.75 158.75]\n",
      "   [165.25 154.25 158.25]]\n",
      "\n",
      "  [[163.75 151.75 151.75]\n",
      "   [177.5  165.5  165.5 ]\n",
      "   [164.   152.   152.  ]\n",
      "   ...\n",
      "   [169.75 158.75 162.75]\n",
      "   [173.5  162.5  166.5 ]\n",
      "   [171.   160.   164.  ]]]], shape=(32, 128, 128, 3), dtype=float32) (32, 128, 128, 3)\n",
      "tf.Tensor(\n",
      "[[0. 0. 0. ... 0. 0. 0.]\n",
      " [0. 0. 0. ... 0. 0. 0.]\n",
      " [0. 0. 0. ... 0. 0. 0.]\n",
      " ...\n",
      " [0. 0. 0. ... 0. 0. 0.]\n",
      " [0. 0. 0. ... 0. 0. 0.]\n",
      " [0. 1. 0. ... 0. 0. 0.]], shape=(32, 62), dtype=float32) (32, 62)\n"
     ]
    }
   ],
   "source": [
    "for x,y in training_set:\n",
    "    print(x,x.shape)\n",
    "    print(y,y.shape)\n",
    "    break"
   ]
  },
  {
   "cell_type": "markdown",
   "id": "47d1b386-a6de-457b-a2de-841cad60ba54",
   "metadata": {},
   "source": [
    "### To avoid overshooting\n",
    "1. choose small learning rate default 0.001 we are taking 0.0001\n",
    "2. they may be chance of underfitting so increase number of neuron\n",
    "3. add mors convolution layer to extract more feature from images they may be possiblity that model unable to capture relavent "
   ]
  },
  {
   "cell_type": "markdown",
   "id": "a3bd8a45-cfaa-488b-86c7-0150d7f29541",
   "metadata": {},
   "source": [
    " ## Building model"
   ]
  },
  {
   "cell_type": "code",
   "execution_count": 16,
   "id": "71e5202d-43a9-48e2-900e-b1e492a685d0",
   "metadata": {},
   "outputs": [],
   "source": [
    "from tensorflow.keras.layers import Dense,Conv2D,MaxPool2D,Flatten,Dropout\n",
    "from tensorflow.keras.models import Sequential\n",
    "from tensorflow.keras.optimizers import Adam"
   ]
  },
  {
   "cell_type": "code",
   "execution_count": 18,
   "id": "af8a7611-aa30-4fc7-a306-83ee93418392",
   "metadata": {},
   "outputs": [],
   "source": [
    "model = Sequential()"
   ]
  },
  {
   "cell_type": "markdown",
   "id": "7b6ec71c-cb5d-4313-a147-d52a5a9eb2c6",
   "metadata": {},
   "source": [
    "## Building Convolutional Layer"
   ]
  },
  {
   "cell_type": "code",
   "execution_count": 21,
   "id": "ad2f3b55-7522-42e4-8f53-04e27c228e9e",
   "metadata": {},
   "outputs": [
    {
     "name": "stderr",
     "output_type": "stream",
     "text": [
      "C:\\Users\\USER\\anaconda3\\Lib\\site-packages\\keras\\src\\layers\\convolutional\\base_conv.py:107: UserWarning: Do not pass an `input_shape`/`input_dim` argument to a layer. When using Sequential models, prefer using an `Input(shape)` object as the first layer in the model instead.\n",
      "  super().__init__(activity_regularizer=activity_regularizer, **kwargs)\n"
     ]
    }
   ],
   "source": [
    "model.add(Conv2D(filters=32,kernel_size=3,padding='same',activation='relu',input_shape=[128,128,3]))\n",
    "model.add(Conv2D(filters=32,kernel_size=3,activation='relu'))\n",
    "model.add(MaxPool2D(pool_size=2,strides=2))"
   ]
  },
  {
   "cell_type": "code",
   "execution_count": 23,
   "id": "d2773056-fa4e-4c3a-a085-bf28a939df0c",
   "metadata": {},
   "outputs": [],
   "source": [
    "model.add(Conv2D(filters=64,kernel_size=3,padding='same',activation='relu'))\n",
    "model.add(Conv2D(filters=64,kernel_size=3,activation='relu'))\n",
    "model.add(MaxPool2D(pool_size=2,strides=2))"
   ]
  },
  {
   "cell_type": "code",
   "execution_count": 25,
   "id": "7b36f07a-b8b2-4f32-9d4c-efe9c2f91251",
   "metadata": {},
   "outputs": [],
   "source": [
    "model.add(Conv2D(filters=128,kernel_size=3,padding='same',activation='relu'))\n",
    "model.add(Conv2D(filters=128,kernel_size=3,activation='relu'))\n",
    "model.add(MaxPool2D(pool_size=2,strides=2))"
   ]
  },
  {
   "cell_type": "code",
   "execution_count": 27,
   "id": "0be8713d-2419-4185-be21-3792f3359c51",
   "metadata": {},
   "outputs": [],
   "source": [
    "model.add(Conv2D(filters=256,kernel_size=3,padding='same',activation='relu'))\n",
    "model.add(Conv2D(filters=256,kernel_size=3,activation='relu'))\n",
    "model.add(MaxPool2D(pool_size=2,strides=2))"
   ]
  },
  {
   "cell_type": "code",
   "execution_count": 29,
   "id": "d4bd39cd-4317-4c73-8bc1-dd9100066b16",
   "metadata": {},
   "outputs": [],
   "source": [
    "model.add(Conv2D(filters=512,kernel_size=3,padding='same',activation='relu'))\n",
    "model.add(Conv2D(filters=512,kernel_size=3,activation='relu'))\n",
    "model.add(MaxPool2D(pool_size=2,strides=2))"
   ]
  },
  {
   "cell_type": "code",
   "execution_count": 31,
   "id": "352aa950-82e8-476f-8b1d-2bfcdc9590b4",
   "metadata": {},
   "outputs": [],
   "source": [
    "model.add(Dropout(0.25)) #to avoid overfitting"
   ]
  },
  {
   "cell_type": "code",
   "execution_count": 33,
   "id": "671a07ca-8d8c-4abe-b1e0-95f8895e5900",
   "metadata": {},
   "outputs": [],
   "source": [
    "model.add(Flatten())"
   ]
  },
  {
   "cell_type": "code",
   "execution_count": 35,
   "id": "eabda0ae-1e1b-4e9a-907b-de9d94de9c9e",
   "metadata": {},
   "outputs": [],
   "source": [
    "model.add(Dense(units=1500,activation='relu'))"
   ]
  },
  {
   "cell_type": "code",
   "execution_count": 37,
   "id": "d0aaac96-1eea-4366-926b-8857ae5ce97a",
   "metadata": {},
   "outputs": [],
   "source": [
    "model.add(Dropout(0.4))"
   ]
  },
  {
   "cell_type": "code",
   "execution_count": 39,
   "id": "08c83892-8449-4d8d-b592-eeca5ec1d9b0",
   "metadata": {},
   "outputs": [],
   "source": [
    "#out put layer\n",
    "model.add(Dense(units=62,activation='softmax'))"
   ]
  },
  {
   "cell_type": "markdown",
   "id": "ec757739-2422-4ca7-addd-901b2f291b58",
   "metadata": {},
   "source": [
    "## Compiling Model"
   ]
  },
  {
   "cell_type": "code",
   "execution_count": 42,
   "id": "a3559606-ec28-4dbc-a428-2ed13d6d63f9",
   "metadata": {},
   "outputs": [],
   "source": [
    "model.compile(optimizer=tf.keras.optimizers.Adam(\n",
    "    learning_rate=0.0001),loss='categorical_crossentropy',metrics=['accuracy'])"
   ]
  },
  {
   "cell_type": "code",
   "execution_count": 44,
   "id": "b6952298-30df-4b15-bf18-9642ddca6398",
   "metadata": {},
   "outputs": [
    {
     "data": {
      "text/html": [
       "<pre style=\"white-space:pre;overflow-x:auto;line-height:normal;font-family:Menlo,'DejaVu Sans Mono',consolas,'Courier New',monospace\"><span style=\"font-weight: bold\">Model: \"sequential\"</span>\n",
       "</pre>\n"
      ],
      "text/plain": [
       "\u001b[1mModel: \"sequential\"\u001b[0m\n"
      ]
     },
     "metadata": {},
     "output_type": "display_data"
    },
    {
     "data": {
      "text/html": [
       "<pre style=\"white-space:pre;overflow-x:auto;line-height:normal;font-family:Menlo,'DejaVu Sans Mono',consolas,'Courier New',monospace\">┏━━━━━━━━━━━━━━━━━━━━━━━━━━━━━━━━━┳━━━━━━━━━━━━━━━━━━━━━━━━┳━━━━━━━━━━━━━━━┓\n",
       "┃<span style=\"font-weight: bold\"> Layer (type)                    </span>┃<span style=\"font-weight: bold\"> Output Shape           </span>┃<span style=\"font-weight: bold\">       Param # </span>┃\n",
       "┡━━━━━━━━━━━━━━━━━━━━━━━━━━━━━━━━━╇━━━━━━━━━━━━━━━━━━━━━━━━╇━━━━━━━━━━━━━━━┩\n",
       "│ conv2d (<span style=\"color: #0087ff; text-decoration-color: #0087ff\">Conv2D</span>)                 │ (<span style=\"color: #00d7ff; text-decoration-color: #00d7ff\">None</span>, <span style=\"color: #00af00; text-decoration-color: #00af00\">128</span>, <span style=\"color: #00af00; text-decoration-color: #00af00\">128</span>, <span style=\"color: #00af00; text-decoration-color: #00af00\">32</span>)   │           <span style=\"color: #00af00; text-decoration-color: #00af00\">896</span> │\n",
       "├─────────────────────────────────┼────────────────────────┼───────────────┤\n",
       "│ conv2d_1 (<span style=\"color: #0087ff; text-decoration-color: #0087ff\">Conv2D</span>)               │ (<span style=\"color: #00d7ff; text-decoration-color: #00d7ff\">None</span>, <span style=\"color: #00af00; text-decoration-color: #00af00\">126</span>, <span style=\"color: #00af00; text-decoration-color: #00af00\">126</span>, <span style=\"color: #00af00; text-decoration-color: #00af00\">32</span>)   │         <span style=\"color: #00af00; text-decoration-color: #00af00\">9,248</span> │\n",
       "├─────────────────────────────────┼────────────────────────┼───────────────┤\n",
       "│ max_pooling2d (<span style=\"color: #0087ff; text-decoration-color: #0087ff\">MaxPooling2D</span>)    │ (<span style=\"color: #00d7ff; text-decoration-color: #00d7ff\">None</span>, <span style=\"color: #00af00; text-decoration-color: #00af00\">63</span>, <span style=\"color: #00af00; text-decoration-color: #00af00\">63</span>, <span style=\"color: #00af00; text-decoration-color: #00af00\">32</span>)     │             <span style=\"color: #00af00; text-decoration-color: #00af00\">0</span> │\n",
       "├─────────────────────────────────┼────────────────────────┼───────────────┤\n",
       "│ conv2d_2 (<span style=\"color: #0087ff; text-decoration-color: #0087ff\">Conv2D</span>)               │ (<span style=\"color: #00d7ff; text-decoration-color: #00d7ff\">None</span>, <span style=\"color: #00af00; text-decoration-color: #00af00\">63</span>, <span style=\"color: #00af00; text-decoration-color: #00af00\">63</span>, <span style=\"color: #00af00; text-decoration-color: #00af00\">64</span>)     │        <span style=\"color: #00af00; text-decoration-color: #00af00\">18,496</span> │\n",
       "├─────────────────────────────────┼────────────────────────┼───────────────┤\n",
       "│ conv2d_3 (<span style=\"color: #0087ff; text-decoration-color: #0087ff\">Conv2D</span>)               │ (<span style=\"color: #00d7ff; text-decoration-color: #00d7ff\">None</span>, <span style=\"color: #00af00; text-decoration-color: #00af00\">61</span>, <span style=\"color: #00af00; text-decoration-color: #00af00\">61</span>, <span style=\"color: #00af00; text-decoration-color: #00af00\">64</span>)     │        <span style=\"color: #00af00; text-decoration-color: #00af00\">36,928</span> │\n",
       "├─────────────────────────────────┼────────────────────────┼───────────────┤\n",
       "│ max_pooling2d_1 (<span style=\"color: #0087ff; text-decoration-color: #0087ff\">MaxPooling2D</span>)  │ (<span style=\"color: #00d7ff; text-decoration-color: #00d7ff\">None</span>, <span style=\"color: #00af00; text-decoration-color: #00af00\">30</span>, <span style=\"color: #00af00; text-decoration-color: #00af00\">30</span>, <span style=\"color: #00af00; text-decoration-color: #00af00\">64</span>)     │             <span style=\"color: #00af00; text-decoration-color: #00af00\">0</span> │\n",
       "├─────────────────────────────────┼────────────────────────┼───────────────┤\n",
       "│ conv2d_4 (<span style=\"color: #0087ff; text-decoration-color: #0087ff\">Conv2D</span>)               │ (<span style=\"color: #00d7ff; text-decoration-color: #00d7ff\">None</span>, <span style=\"color: #00af00; text-decoration-color: #00af00\">30</span>, <span style=\"color: #00af00; text-decoration-color: #00af00\">30</span>, <span style=\"color: #00af00; text-decoration-color: #00af00\">128</span>)    │        <span style=\"color: #00af00; text-decoration-color: #00af00\">73,856</span> │\n",
       "├─────────────────────────────────┼────────────────────────┼───────────────┤\n",
       "│ conv2d_5 (<span style=\"color: #0087ff; text-decoration-color: #0087ff\">Conv2D</span>)               │ (<span style=\"color: #00d7ff; text-decoration-color: #00d7ff\">None</span>, <span style=\"color: #00af00; text-decoration-color: #00af00\">28</span>, <span style=\"color: #00af00; text-decoration-color: #00af00\">28</span>, <span style=\"color: #00af00; text-decoration-color: #00af00\">128</span>)    │       <span style=\"color: #00af00; text-decoration-color: #00af00\">147,584</span> │\n",
       "├─────────────────────────────────┼────────────────────────┼───────────────┤\n",
       "│ max_pooling2d_2 (<span style=\"color: #0087ff; text-decoration-color: #0087ff\">MaxPooling2D</span>)  │ (<span style=\"color: #00d7ff; text-decoration-color: #00d7ff\">None</span>, <span style=\"color: #00af00; text-decoration-color: #00af00\">14</span>, <span style=\"color: #00af00; text-decoration-color: #00af00\">14</span>, <span style=\"color: #00af00; text-decoration-color: #00af00\">128</span>)    │             <span style=\"color: #00af00; text-decoration-color: #00af00\">0</span> │\n",
       "├─────────────────────────────────┼────────────────────────┼───────────────┤\n",
       "│ conv2d_6 (<span style=\"color: #0087ff; text-decoration-color: #0087ff\">Conv2D</span>)               │ (<span style=\"color: #00d7ff; text-decoration-color: #00d7ff\">None</span>, <span style=\"color: #00af00; text-decoration-color: #00af00\">14</span>, <span style=\"color: #00af00; text-decoration-color: #00af00\">14</span>, <span style=\"color: #00af00; text-decoration-color: #00af00\">256</span>)    │       <span style=\"color: #00af00; text-decoration-color: #00af00\">295,168</span> │\n",
       "├─────────────────────────────────┼────────────────────────┼───────────────┤\n",
       "│ conv2d_7 (<span style=\"color: #0087ff; text-decoration-color: #0087ff\">Conv2D</span>)               │ (<span style=\"color: #00d7ff; text-decoration-color: #00d7ff\">None</span>, <span style=\"color: #00af00; text-decoration-color: #00af00\">12</span>, <span style=\"color: #00af00; text-decoration-color: #00af00\">12</span>, <span style=\"color: #00af00; text-decoration-color: #00af00\">256</span>)    │       <span style=\"color: #00af00; text-decoration-color: #00af00\">590,080</span> │\n",
       "├─────────────────────────────────┼────────────────────────┼───────────────┤\n",
       "│ max_pooling2d_3 (<span style=\"color: #0087ff; text-decoration-color: #0087ff\">MaxPooling2D</span>)  │ (<span style=\"color: #00d7ff; text-decoration-color: #00d7ff\">None</span>, <span style=\"color: #00af00; text-decoration-color: #00af00\">6</span>, <span style=\"color: #00af00; text-decoration-color: #00af00\">6</span>, <span style=\"color: #00af00; text-decoration-color: #00af00\">256</span>)      │             <span style=\"color: #00af00; text-decoration-color: #00af00\">0</span> │\n",
       "├─────────────────────────────────┼────────────────────────┼───────────────┤\n",
       "│ conv2d_8 (<span style=\"color: #0087ff; text-decoration-color: #0087ff\">Conv2D</span>)               │ (<span style=\"color: #00d7ff; text-decoration-color: #00d7ff\">None</span>, <span style=\"color: #00af00; text-decoration-color: #00af00\">6</span>, <span style=\"color: #00af00; text-decoration-color: #00af00\">6</span>, <span style=\"color: #00af00; text-decoration-color: #00af00\">512</span>)      │     <span style=\"color: #00af00; text-decoration-color: #00af00\">1,180,160</span> │\n",
       "├─────────────────────────────────┼────────────────────────┼───────────────┤\n",
       "│ conv2d_9 (<span style=\"color: #0087ff; text-decoration-color: #0087ff\">Conv2D</span>)               │ (<span style=\"color: #00d7ff; text-decoration-color: #00d7ff\">None</span>, <span style=\"color: #00af00; text-decoration-color: #00af00\">4</span>, <span style=\"color: #00af00; text-decoration-color: #00af00\">4</span>, <span style=\"color: #00af00; text-decoration-color: #00af00\">512</span>)      │     <span style=\"color: #00af00; text-decoration-color: #00af00\">2,359,808</span> │\n",
       "├─────────────────────────────────┼────────────────────────┼───────────────┤\n",
       "│ max_pooling2d_4 (<span style=\"color: #0087ff; text-decoration-color: #0087ff\">MaxPooling2D</span>)  │ (<span style=\"color: #00d7ff; text-decoration-color: #00d7ff\">None</span>, <span style=\"color: #00af00; text-decoration-color: #00af00\">2</span>, <span style=\"color: #00af00; text-decoration-color: #00af00\">2</span>, <span style=\"color: #00af00; text-decoration-color: #00af00\">512</span>)      │             <span style=\"color: #00af00; text-decoration-color: #00af00\">0</span> │\n",
       "├─────────────────────────────────┼────────────────────────┼───────────────┤\n",
       "│ dropout (<span style=\"color: #0087ff; text-decoration-color: #0087ff\">Dropout</span>)               │ (<span style=\"color: #00d7ff; text-decoration-color: #00d7ff\">None</span>, <span style=\"color: #00af00; text-decoration-color: #00af00\">2</span>, <span style=\"color: #00af00; text-decoration-color: #00af00\">2</span>, <span style=\"color: #00af00; text-decoration-color: #00af00\">512</span>)      │             <span style=\"color: #00af00; text-decoration-color: #00af00\">0</span> │\n",
       "├─────────────────────────────────┼────────────────────────┼───────────────┤\n",
       "│ flatten (<span style=\"color: #0087ff; text-decoration-color: #0087ff\">Flatten</span>)               │ (<span style=\"color: #00d7ff; text-decoration-color: #00d7ff\">None</span>, <span style=\"color: #00af00; text-decoration-color: #00af00\">2048</span>)           │             <span style=\"color: #00af00; text-decoration-color: #00af00\">0</span> │\n",
       "├─────────────────────────────────┼────────────────────────┼───────────────┤\n",
       "│ dense (<span style=\"color: #0087ff; text-decoration-color: #0087ff\">Dense</span>)                   │ (<span style=\"color: #00d7ff; text-decoration-color: #00d7ff\">None</span>, <span style=\"color: #00af00; text-decoration-color: #00af00\">1500</span>)           │     <span style=\"color: #00af00; text-decoration-color: #00af00\">3,073,500</span> │\n",
       "├─────────────────────────────────┼────────────────────────┼───────────────┤\n",
       "│ dropout_1 (<span style=\"color: #0087ff; text-decoration-color: #0087ff\">Dropout</span>)             │ (<span style=\"color: #00d7ff; text-decoration-color: #00d7ff\">None</span>, <span style=\"color: #00af00; text-decoration-color: #00af00\">1500</span>)           │             <span style=\"color: #00af00; text-decoration-color: #00af00\">0</span> │\n",
       "├─────────────────────────────────┼────────────────────────┼───────────────┤\n",
       "│ dense_1 (<span style=\"color: #0087ff; text-decoration-color: #0087ff\">Dense</span>)                 │ (<span style=\"color: #00d7ff; text-decoration-color: #00d7ff\">None</span>, <span style=\"color: #00af00; text-decoration-color: #00af00\">62</span>)             │        <span style=\"color: #00af00; text-decoration-color: #00af00\">93,062</span> │\n",
       "└─────────────────────────────────┴────────────────────────┴───────────────┘\n",
       "</pre>\n"
      ],
      "text/plain": [
       "┏━━━━━━━━━━━━━━━━━━━━━━━━━━━━━━━━━┳━━━━━━━━━━━━━━━━━━━━━━━━┳━━━━━━━━━━━━━━━┓\n",
       "┃\u001b[1m \u001b[0m\u001b[1mLayer (type)                   \u001b[0m\u001b[1m \u001b[0m┃\u001b[1m \u001b[0m\u001b[1mOutput Shape          \u001b[0m\u001b[1m \u001b[0m┃\u001b[1m \u001b[0m\u001b[1m      Param #\u001b[0m\u001b[1m \u001b[0m┃\n",
       "┡━━━━━━━━━━━━━━━━━━━━━━━━━━━━━━━━━╇━━━━━━━━━━━━━━━━━━━━━━━━╇━━━━━━━━━━━━━━━┩\n",
       "│ conv2d (\u001b[38;5;33mConv2D\u001b[0m)                 │ (\u001b[38;5;45mNone\u001b[0m, \u001b[38;5;34m128\u001b[0m, \u001b[38;5;34m128\u001b[0m, \u001b[38;5;34m32\u001b[0m)   │           \u001b[38;5;34m896\u001b[0m │\n",
       "├─────────────────────────────────┼────────────────────────┼───────────────┤\n",
       "│ conv2d_1 (\u001b[38;5;33mConv2D\u001b[0m)               │ (\u001b[38;5;45mNone\u001b[0m, \u001b[38;5;34m126\u001b[0m, \u001b[38;5;34m126\u001b[0m, \u001b[38;5;34m32\u001b[0m)   │         \u001b[38;5;34m9,248\u001b[0m │\n",
       "├─────────────────────────────────┼────────────────────────┼───────────────┤\n",
       "│ max_pooling2d (\u001b[38;5;33mMaxPooling2D\u001b[0m)    │ (\u001b[38;5;45mNone\u001b[0m, \u001b[38;5;34m63\u001b[0m, \u001b[38;5;34m63\u001b[0m, \u001b[38;5;34m32\u001b[0m)     │             \u001b[38;5;34m0\u001b[0m │\n",
       "├─────────────────────────────────┼────────────────────────┼───────────────┤\n",
       "│ conv2d_2 (\u001b[38;5;33mConv2D\u001b[0m)               │ (\u001b[38;5;45mNone\u001b[0m, \u001b[38;5;34m63\u001b[0m, \u001b[38;5;34m63\u001b[0m, \u001b[38;5;34m64\u001b[0m)     │        \u001b[38;5;34m18,496\u001b[0m │\n",
       "├─────────────────────────────────┼────────────────────────┼───────────────┤\n",
       "│ conv2d_3 (\u001b[38;5;33mConv2D\u001b[0m)               │ (\u001b[38;5;45mNone\u001b[0m, \u001b[38;5;34m61\u001b[0m, \u001b[38;5;34m61\u001b[0m, \u001b[38;5;34m64\u001b[0m)     │        \u001b[38;5;34m36,928\u001b[0m │\n",
       "├─────────────────────────────────┼────────────────────────┼───────────────┤\n",
       "│ max_pooling2d_1 (\u001b[38;5;33mMaxPooling2D\u001b[0m)  │ (\u001b[38;5;45mNone\u001b[0m, \u001b[38;5;34m30\u001b[0m, \u001b[38;5;34m30\u001b[0m, \u001b[38;5;34m64\u001b[0m)     │             \u001b[38;5;34m0\u001b[0m │\n",
       "├─────────────────────────────────┼────────────────────────┼───────────────┤\n",
       "│ conv2d_4 (\u001b[38;5;33mConv2D\u001b[0m)               │ (\u001b[38;5;45mNone\u001b[0m, \u001b[38;5;34m30\u001b[0m, \u001b[38;5;34m30\u001b[0m, \u001b[38;5;34m128\u001b[0m)    │        \u001b[38;5;34m73,856\u001b[0m │\n",
       "├─────────────────────────────────┼────────────────────────┼───────────────┤\n",
       "│ conv2d_5 (\u001b[38;5;33mConv2D\u001b[0m)               │ (\u001b[38;5;45mNone\u001b[0m, \u001b[38;5;34m28\u001b[0m, \u001b[38;5;34m28\u001b[0m, \u001b[38;5;34m128\u001b[0m)    │       \u001b[38;5;34m147,584\u001b[0m │\n",
       "├─────────────────────────────────┼────────────────────────┼───────────────┤\n",
       "│ max_pooling2d_2 (\u001b[38;5;33mMaxPooling2D\u001b[0m)  │ (\u001b[38;5;45mNone\u001b[0m, \u001b[38;5;34m14\u001b[0m, \u001b[38;5;34m14\u001b[0m, \u001b[38;5;34m128\u001b[0m)    │             \u001b[38;5;34m0\u001b[0m │\n",
       "├─────────────────────────────────┼────────────────────────┼───────────────┤\n",
       "│ conv2d_6 (\u001b[38;5;33mConv2D\u001b[0m)               │ (\u001b[38;5;45mNone\u001b[0m, \u001b[38;5;34m14\u001b[0m, \u001b[38;5;34m14\u001b[0m, \u001b[38;5;34m256\u001b[0m)    │       \u001b[38;5;34m295,168\u001b[0m │\n",
       "├─────────────────────────────────┼────────────────────────┼───────────────┤\n",
       "│ conv2d_7 (\u001b[38;5;33mConv2D\u001b[0m)               │ (\u001b[38;5;45mNone\u001b[0m, \u001b[38;5;34m12\u001b[0m, \u001b[38;5;34m12\u001b[0m, \u001b[38;5;34m256\u001b[0m)    │       \u001b[38;5;34m590,080\u001b[0m │\n",
       "├─────────────────────────────────┼────────────────────────┼───────────────┤\n",
       "│ max_pooling2d_3 (\u001b[38;5;33mMaxPooling2D\u001b[0m)  │ (\u001b[38;5;45mNone\u001b[0m, \u001b[38;5;34m6\u001b[0m, \u001b[38;5;34m6\u001b[0m, \u001b[38;5;34m256\u001b[0m)      │             \u001b[38;5;34m0\u001b[0m │\n",
       "├─────────────────────────────────┼────────────────────────┼───────────────┤\n",
       "│ conv2d_8 (\u001b[38;5;33mConv2D\u001b[0m)               │ (\u001b[38;5;45mNone\u001b[0m, \u001b[38;5;34m6\u001b[0m, \u001b[38;5;34m6\u001b[0m, \u001b[38;5;34m512\u001b[0m)      │     \u001b[38;5;34m1,180,160\u001b[0m │\n",
       "├─────────────────────────────────┼────────────────────────┼───────────────┤\n",
       "│ conv2d_9 (\u001b[38;5;33mConv2D\u001b[0m)               │ (\u001b[38;5;45mNone\u001b[0m, \u001b[38;5;34m4\u001b[0m, \u001b[38;5;34m4\u001b[0m, \u001b[38;5;34m512\u001b[0m)      │     \u001b[38;5;34m2,359,808\u001b[0m │\n",
       "├─────────────────────────────────┼────────────────────────┼───────────────┤\n",
       "│ max_pooling2d_4 (\u001b[38;5;33mMaxPooling2D\u001b[0m)  │ (\u001b[38;5;45mNone\u001b[0m, \u001b[38;5;34m2\u001b[0m, \u001b[38;5;34m2\u001b[0m, \u001b[38;5;34m512\u001b[0m)      │             \u001b[38;5;34m0\u001b[0m │\n",
       "├─────────────────────────────────┼────────────────────────┼───────────────┤\n",
       "│ dropout (\u001b[38;5;33mDropout\u001b[0m)               │ (\u001b[38;5;45mNone\u001b[0m, \u001b[38;5;34m2\u001b[0m, \u001b[38;5;34m2\u001b[0m, \u001b[38;5;34m512\u001b[0m)      │             \u001b[38;5;34m0\u001b[0m │\n",
       "├─────────────────────────────────┼────────────────────────┼───────────────┤\n",
       "│ flatten (\u001b[38;5;33mFlatten\u001b[0m)               │ (\u001b[38;5;45mNone\u001b[0m, \u001b[38;5;34m2048\u001b[0m)           │             \u001b[38;5;34m0\u001b[0m │\n",
       "├─────────────────────────────────┼────────────────────────┼───────────────┤\n",
       "│ dense (\u001b[38;5;33mDense\u001b[0m)                   │ (\u001b[38;5;45mNone\u001b[0m, \u001b[38;5;34m1500\u001b[0m)           │     \u001b[38;5;34m3,073,500\u001b[0m │\n",
       "├─────────────────────────────────┼────────────────────────┼───────────────┤\n",
       "│ dropout_1 (\u001b[38;5;33mDropout\u001b[0m)             │ (\u001b[38;5;45mNone\u001b[0m, \u001b[38;5;34m1500\u001b[0m)           │             \u001b[38;5;34m0\u001b[0m │\n",
       "├─────────────────────────────────┼────────────────────────┼───────────────┤\n",
       "│ dense_1 (\u001b[38;5;33mDense\u001b[0m)                 │ (\u001b[38;5;45mNone\u001b[0m, \u001b[38;5;34m62\u001b[0m)             │        \u001b[38;5;34m93,062\u001b[0m │\n",
       "└─────────────────────────────────┴────────────────────────┴───────────────┘\n"
      ]
     },
     "metadata": {},
     "output_type": "display_data"
    },
    {
     "data": {
      "text/html": [
       "<pre style=\"white-space:pre;overflow-x:auto;line-height:normal;font-family:Menlo,'DejaVu Sans Mono',consolas,'Courier New',monospace\"><span style=\"font-weight: bold\"> Total params: </span><span style=\"color: #00af00; text-decoration-color: #00af00\">7,878,786</span> (30.06 MB)\n",
       "</pre>\n"
      ],
      "text/plain": [
       "\u001b[1m Total params: \u001b[0m\u001b[38;5;34m7,878,786\u001b[0m (30.06 MB)\n"
      ]
     },
     "metadata": {},
     "output_type": "display_data"
    },
    {
     "data": {
      "text/html": [
       "<pre style=\"white-space:pre;overflow-x:auto;line-height:normal;font-family:Menlo,'DejaVu Sans Mono',consolas,'Courier New',monospace\"><span style=\"font-weight: bold\"> Trainable params: </span><span style=\"color: #00af00; text-decoration-color: #00af00\">7,878,786</span> (30.06 MB)\n",
       "</pre>\n"
      ],
      "text/plain": [
       "\u001b[1m Trainable params: \u001b[0m\u001b[38;5;34m7,878,786\u001b[0m (30.06 MB)\n"
      ]
     },
     "metadata": {},
     "output_type": "display_data"
    },
    {
     "data": {
      "text/html": [
       "<pre style=\"white-space:pre;overflow-x:auto;line-height:normal;font-family:Menlo,'DejaVu Sans Mono',consolas,'Courier New',monospace\"><span style=\"font-weight: bold\"> Non-trainable params: </span><span style=\"color: #00af00; text-decoration-color: #00af00\">0</span> (0.00 B)\n",
       "</pre>\n"
      ],
      "text/plain": [
       "\u001b[1m Non-trainable params: \u001b[0m\u001b[38;5;34m0\u001b[0m (0.00 B)\n"
      ]
     },
     "metadata": {},
     "output_type": "display_data"
    }
   ],
   "source": [
    "model.summary()"
   ]
  },
  {
   "cell_type": "markdown",
   "id": "1a7ccdef-ca01-479c-8e47-a92acbfb0989",
   "metadata": {},
   "source": [
    " ### Model Training"
   ]
  },
  {
   "cell_type": "code",
   "execution_count": 47,
   "id": "92b2d9c2-07d8-4ccd-beda-53e938e88bc5",
   "metadata": {},
   "outputs": [
    {
     "name": "stdout",
     "output_type": "stream",
     "text": [
      "Epoch 1/10\n",
      "\u001b[1m2933/2933\u001b[0m \u001b[32m━━━━━━━━━━━━━━━━━━━━\u001b[0m\u001b[37m\u001b[0m \u001b[1m5067s\u001b[0m 2s/step - accuracy: 0.4298 - loss: 2.1443 - val_accuracy: 0.6874 - val_loss: 2.2862\n",
      "Epoch 2/10\n",
      "\u001b[1m2933/2933\u001b[0m \u001b[32m━━━━━━━━━━━━━━━━━━━━\u001b[0m\u001b[37m\u001b[0m \u001b[1m3183s\u001b[0m 1s/step - accuracy: 0.8339 - loss: 0.5309 - val_accuracy: 0.7817 - val_loss: 2.5125\n",
      "Epoch 3/10\n",
      "\u001b[1m2933/2933\u001b[0m \u001b[32m━━━━━━━━━━━━━━━━━━━━\u001b[0m\u001b[37m\u001b[0m \u001b[1m3135s\u001b[0m 1s/step - accuracy: 0.8983 - loss: 0.3177 - val_accuracy: 0.8173 - val_loss: 2.8189\n",
      "Epoch 4/10\n",
      "\u001b[1m2933/2933\u001b[0m \u001b[32m━━━━━━━━━━━━━━━━━━━━\u001b[0m\u001b[37m\u001b[0m \u001b[1m3154s\u001b[0m 1s/step - accuracy: 0.9304 - loss: 0.2102 - val_accuracy: 0.8215 - val_loss: 2.8679\n",
      "Epoch 5/10\n",
      "\u001b[1m2933/2933\u001b[0m \u001b[32m━━━━━━━━━━━━━━━━━━━━\u001b[0m\u001b[37m\u001b[0m \u001b[1m3236s\u001b[0m 1s/step - accuracy: 0.9473 - loss: 0.1613 - val_accuracy: 0.8172 - val_loss: 3.8891\n",
      "Epoch 6/10\n",
      "\u001b[1m2933/2933\u001b[0m \u001b[32m━━━━━━━━━━━━━━━━━━━━\u001b[0m\u001b[37m\u001b[0m \u001b[1m3489s\u001b[0m 1s/step - accuracy: 0.9585 - loss: 0.1253 - val_accuracy: 0.8366 - val_loss: 3.3682\n",
      "Epoch 7/10\n",
      "\u001b[1m2933/2933\u001b[0m \u001b[32m━━━━━━━━━━━━━━━━━━━━\u001b[0m\u001b[37m\u001b[0m \u001b[1m16537s\u001b[0m 6s/step - accuracy: 0.9643 - loss: 0.1048 - val_accuracy: 0.8490 - val_loss: 4.1085\n",
      "Epoch 8/10\n",
      "\u001b[1m2933/2933\u001b[0m \u001b[32m━━━━━━━━━━━━━━━━━━━━\u001b[0m\u001b[37m\u001b[0m \u001b[1m3122s\u001b[0m 1s/step - accuracy: 0.9728 - loss: 0.0821 - val_accuracy: 0.8348 - val_loss: 3.9825\n",
      "Epoch 9/10\n",
      "\u001b[1m2933/2933\u001b[0m \u001b[32m━━━━━━━━━━━━━━━━━━━━\u001b[0m\u001b[37m\u001b[0m \u001b[1m3121s\u001b[0m 1s/step - accuracy: 0.9758 - loss: 0.0736 - val_accuracy: 0.8395 - val_loss: 3.5323\n",
      "Epoch 10/10\n",
      "\u001b[1m2933/2933\u001b[0m \u001b[32m━━━━━━━━━━━━━━━━━━━━\u001b[0m\u001b[37m\u001b[0m \u001b[1m38121s\u001b[0m 13s/step - accuracy: 0.9797 - loss: 0.0641 - val_accuracy: 0.8470 - val_loss: 3.4677\n"
     ]
    }
   ],
   "source": [
    "training_history = model.fit(x=training_set,validation_data=validation_set,epochs=10)"
   ]
  },
  {
   "cell_type": "markdown",
   "id": "e4f2389f-ddb3-47ff-8a34-521230d74809",
   "metadata": {},
   "source": [
    "## Model evaluation"
   ]
  },
  {
   "cell_type": "code",
   "execution_count": 49,
   "id": "1c590164-fb90-4221-9a0d-e281b4c2dee6",
   "metadata": {},
   "outputs": [
    {
     "name": "stdout",
     "output_type": "stream",
     "text": [
      "\u001b[1m2933/2933\u001b[0m \u001b[32m━━━━━━━━━━━━━━━━━━━━\u001b[0m\u001b[37m\u001b[0m \u001b[1m790s\u001b[0m 269ms/step - accuracy: 0.9896 - loss: 0.0323\n"
     ]
    }
   ],
   "source": [
    "#model evaluation on training set\n",
    "train_loss,train_acc = model.evaluate(training_set)"
   ]
  },
  {
   "cell_type": "code",
   "execution_count": 51,
   "id": "ba6a565c-e121-4deb-8ff5-3eca05bf7dba",
   "metadata": {},
   "outputs": [
    {
     "name": "stdout",
     "output_type": "stream",
     "text": [
      "0.029493845999240875 0.9906435608863831\n"
     ]
    }
   ],
   "source": [
    "print(train_loss,train_acc)"
   ]
  },
  {
   "cell_type": "code",
   "execution_count": 53,
   "id": "5d0dc220-3491-4beb-927d-540ef44bd3c8",
   "metadata": {},
   "outputs": [
    {
     "name": "stdout",
     "output_type": "stream",
     "text": [
      "\u001b[1m725/725\u001b[0m \u001b[32m━━━━━━━━━━━━━━━━━━━━\u001b[0m\u001b[37m\u001b[0m \u001b[1m186s\u001b[0m 256ms/step - accuracy: 0.8474 - loss: 3.4005\n"
     ]
    }
   ],
   "source": [
    "#model on validation set\n",
    "val_loss,val_acc = model.evaluate(validation_set)"
   ]
  },
  {
   "cell_type": "code",
   "execution_count": 55,
   "id": "da55467f-867c-419c-8ddf-cadeed330e7d",
   "metadata": {},
   "outputs": [
    {
     "name": "stdout",
     "output_type": "stream",
     "text": [
      "3.4676566123962402 0.8469836711883545\n"
     ]
    }
   ],
   "source": [
    "print(val_loss,val_acc)"
   ]
  },
  {
   "cell_type": "markdown",
   "id": "086d82f8-a8b4-406d-896b-15484c10988c",
   "metadata": {},
   "source": [
    "## saving model"
   ]
  },
  {
   "cell_type": "code",
   "execution_count": 57,
   "id": "e2191ee4-433d-47d7-bb98-2c733c98c3e7",
   "metadata": {},
   "outputs": [],
   "source": [
    "model.save(\"trained_plant_disease_model.keras\")"
   ]
  },
  {
   "cell_type": "code",
   "execution_count": 59,
   "id": "a9277b30-28d7-49dd-9691-e16d33539238",
   "metadata": {},
   "outputs": [
    {
     "data": {
      "text/plain": [
       "{'accuracy': [0.617760181427002,\n",
       "  0.8558914661407471,\n",
       "  0.9093447327613831,\n",
       "  0.9352082014083862,\n",
       "  0.9517258405685425,\n",
       "  0.9618708491325378,\n",
       "  0.9674335718154907,\n",
       "  0.973507821559906,\n",
       "  0.9775359630584717,\n",
       "  0.9803066849708557],\n",
       " 'loss': [1.3426783084869385,\n",
       "  0.45306161046028137,\n",
       "  0.2819051742553711,\n",
       "  0.19403010606765747,\n",
       "  0.14779379963874817,\n",
       "  0.11576447635889053,\n",
       "  0.09725519269704819,\n",
       "  0.0806596577167511,\n",
       "  0.06977952271699905,\n",
       "  0.0635441318154335],\n",
       " 'val_accuracy': [0.6874083280563354,\n",
       "  0.7816518545150757,\n",
       "  0.8173384070396423,\n",
       "  0.8215241432189941,\n",
       "  0.8171657919883728,\n",
       "  0.8366272449493408,\n",
       "  0.8489686846733093,\n",
       "  0.8347717523574829,\n",
       "  0.8395184278488159,\n",
       "  0.8469836711883545],\n",
       " 'val_loss': [2.2862162590026855,\n",
       "  2.512451171875,\n",
       "  2.818931818008423,\n",
       "  2.8678770065307617,\n",
       "  3.889125108718872,\n",
       "  3.3681795597076416,\n",
       "  4.108458518981934,\n",
       "  3.9824938774108887,\n",
       "  3.5322823524475098,\n",
       "  3.4676566123962402]}"
      ]
     },
     "execution_count": 59,
     "metadata": {},
     "output_type": "execute_result"
    }
   ],
   "source": [
    "training_history.history"
   ]
  },
  {
   "cell_type": "code",
   "execution_count": 61,
   "id": "4508b716-6c6a-4d7f-8b48-1cbf0b9f1fe9",
   "metadata": {},
   "outputs": [],
   "source": [
    "#recording history in json\n",
    "import json\n",
    "with open(\"training_hist.json\",\"w\") as f:\n",
    "    json.dump(training_history.history,f)"
   ]
  },
  {
   "cell_type": "code",
   "execution_count": 63,
   "id": "b56a98b6-4796-4a23-83c0-520a78f20b00",
   "metadata": {},
   "outputs": [
    {
     "data": {
      "text/plain": [
       "[0.617760181427002,\n",
       " 0.8558914661407471,\n",
       " 0.9093447327613831,\n",
       " 0.9352082014083862,\n",
       " 0.9517258405685425,\n",
       " 0.9618708491325378,\n",
       " 0.9674335718154907,\n",
       " 0.973507821559906,\n",
       " 0.9775359630584717,\n",
       " 0.9803066849708557]"
      ]
     },
     "execution_count": 63,
     "metadata": {},
     "output_type": "execute_result"
    }
   ],
   "source": [
    "training_history.history['accuracy']\n"
   ]
  },
  {
   "cell_type": "markdown",
   "id": "37ff4e29-408c-465b-bd19-2c72ca173d7e",
   "metadata": {},
   "source": [
    "## Accuracy visualization"
   ]
  },
  {
   "cell_type": "code",
   "execution_count": 66,
   "id": "db4ca3a1-871a-4670-9852-cc3e8dfe47ce",
   "metadata": {},
   "outputs": [
    {
     "data": {
      "image/png": "[encoded data removed]",
      "text/plain": [
       "<Figure size 640x480 with 1 Axes>"
      ]
     },
     "metadata": {},
     "output_type": "display_data"
    }
   ],
   "source": [
    "epochs = [i for i in range(1,11)]\n",
    "plt.plot(epochs,training_history.history['accuracy'],color='red',label='training_accuracy')\n",
    "plt.plot(epochs,training_history.history['val_accuracy'],color='blue',label='training_accuracy')\n",
    "plt.xlabel(\"no.of Epochs\")\n",
    "plt.ylabel(\"Accuracy Result\")\n",
    "plt.title(\"Visualization of Accuracy Result\")\n",
    "plt.legend()\n",
    "plt.show()"
   ]
  },
  {
   "cell_type": "markdown",
   "id": "2c1f4455-c975-4348-a7b0-c2009f54eb26",
   "metadata": {},
   "source": [
    "## some other metrics for model evaluation\n"
   ]
  },
  {
   "cell_type": "code",
   "execution_count": null,
   "id": "dff47597-47c9-4567-8b40-4293d0c28e34",
   "metadata": {},
   "outputs": [],
   "source": []
  },
  {
   "cell_type": "code",
   "execution_count": 70,
   "id": "e6f68187-8730-4ee5-bf79-32cf8964c1a7",
   "metadata": {},
   "outputs": [
    {
     "data": {
      "text/plain": [
       "['Apple___Apple_scab',\n",
       " 'Apple___Black_rot',\n",
       " 'Apple___Cedar_apple_rust',\n",
       " 'Apple___healthy',\n",
       " 'Banana Bract Mosaic Virus Disease',\n",
       " 'Banana Insect Pest Disease',\n",
       " 'Banana Moko Disease',\n",
       " 'Banana Panama Disease',\n",
       " 'Blueberry___healthy',\n",
       " 'Cherry_(including_sour)___Powdery_mildew',\n",
       " 'Cherry_(including_sour)___healthy',\n",
       " 'Corn_(maize)___Cercospora_leaf_spot Gray_leaf_spot',\n",
       " 'Corn_(maize)___Common_rust_',\n",
       " 'Corn_(maize)___Northern_Leaf_Blight',\n",
       " 'Corn_(maize)___healthy',\n",
       " 'Grape___Black_rot',\n",
       " 'Grape___Esca_(Black_Measles)',\n",
       " 'Grape___Leaf_blight_(Isariopsis_Leaf_Spot)',\n",
       " 'Grape___healthy',\n",
       " 'Healthy_Leaf_of_Jackfruit',\n",
       " 'Jackfruit_Algal_Leaf_Spot_of_',\n",
       " 'Jackfruit_Black_Spot_of_',\n",
       " 'Orange___Haunglongbing_(Citrus_greening)',\n",
       " 'Peach___Bacterial_spot',\n",
       " 'Peach___healthy',\n",
       " 'Pepper,_bell___Bacterial_spot',\n",
       " 'Pepper,_bell___healthy',\n",
       " 'Potato___Early_blight',\n",
       " 'Potato___Late_blight',\n",
       " 'Potato___healthy',\n",
       " 'Raspberry___healthy',\n",
       " 'Soybean___healthy',\n",
       " 'Squash___Powdery_mildew',\n",
       " 'Strawberry___Leaf_scorch',\n",
       " 'Strawberry___healthy',\n",
       " 'Tomato___Bacterial_spot',\n",
       " 'Tomato___Early_blight',\n",
       " 'Tomato___Late_blight',\n",
       " 'Tomato___Leaf_Mold',\n",
       " 'Tomato___Septoria_leaf_spot',\n",
       " 'Tomato___Spider_mites Two-spotted_spider_mite',\n",
       " 'Tomato___Target_Spot',\n",
       " 'Tomato___Tomato_Yellow_Leaf_Curl_Virus',\n",
       " 'Tomato___Tomato_mosaic_virus',\n",
       " 'Tomato___healthy',\n",
       " 'banana_cordana',\n",
       " 'banana_healthy',\n",
       " 'banana_pestalotiopsis',\n",
       " 'banana_sigatoka',\n",
       " 'mango_Anthracnose-v',\n",
       " 'mango_Bacterial Canker',\n",
       " 'mango_Cutting Weevil',\n",
       " 'mango_Die Back',\n",
       " 'mango_Gall Midge',\n",
       " 'mango_Healthy',\n",
       " 'mango_Powdery Mildew',\n",
       " 'mango_Sooty Mould',\n",
       " 'sugarcane_Healthy',\n",
       " 'sugarcane_Mosaic',\n",
       " 'sugarcane_RedRot',\n",
       " 'sugarcane_Rust',\n",
       " 'sugarcane_YellowRot']"
      ]
     },
     "execution_count": 70,
     "metadata": {},
     "output_type": "execute_result"
    }
   ],
   "source": [
    "class_name = validation_set.class_names\n",
    "class_name"
   ]
  },
  {
   "cell_type": "code",
   "execution_count": 72,
   "id": "362086a0-500f-4f89-9c6b-f93fe0b7cf60",
   "metadata": {},
   "outputs": [
    {
     "name": "stdout",
     "output_type": "stream",
     "text": [
      "Found 23174 files belonging to 62 classes.\n"
     ]
    }
   ],
   "source": [
    "test_set = tf.keras.utils.image_dataset_from_directory(\n",
    "    'valid',\n",
    "    labels=\"inferred\",\n",
    "    label_mode=\"categorical\",\n",
    "    class_names=None,\n",
    "    color_mode=\"rgb\",\n",
    "    batch_size=32,\n",
    "    image_size=(128, 128),\n",
    "    shuffle=False,\n",
    "    seed=None, \n",
    "    validation_split=None,\n",
    "    subset=None,\n",
    "    interpolation=\"bilinear\",\n",
    "    follow_links=False,\n",
    "    crop_to_aspect_ratio=False,\n",
    "    pad_to_aspect_ratio=False,\n",
    "    verbose=True,\n",
    ")"
   ]
  },
  {
   "cell_type": "code",
   "execution_count": 73,
   "id": "4745bb3d-f28a-4307-b089-4e06bc702aa6",
   "metadata": {},
   "outputs": [
    {
     "name": "stdout",
     "output_type": "stream",
     "text": [
      "\u001b[1m725/725\u001b[0m \u001b[32m━━━━━━━━━━━━━━━━━━━━\u001b[0m\u001b[37m\u001b[0m \u001b[1m178s\u001b[0m 245ms/step\n"
     ]
    },
    {
     "data": {
      "text/plain": [
       "(array([[9.9994063e-01, 2.5412603e-05, 7.8385387e-09, ..., 4.2982051e-13,\n",
       "         1.6270058e-12, 8.8866506e-13],\n",
       "        [9.9998510e-01, 4.4533822e-06, 6.6130612e-10, ..., 2.2438802e-12,\n",
       "         1.2301576e-11, 1.1628980e-12],\n",
       "        [1.0000000e+00, 5.5384145e-11, 1.3544533e-12, ..., 2.1213370e-19,\n",
       "         6.3688804e-18, 2.3984667e-20],\n",
       "        ...,\n",
       "        [1.2098446e-08, 2.9885015e-07, 1.4400703e-08, ..., 3.6194828e-01,\n",
       "         5.8166695e-01, 2.0270064e-03],\n",
       "        [2.8079153e-06, 3.1008963e-06, 4.9735786e-06, ..., 1.5153551e-02,\n",
       "         1.5529077e-02, 7.5895144e-03],\n",
       "        [7.1746504e-06, 1.5578615e-06, 9.6783344e-07, ..., 2.2828504e-03,\n",
       "         1.6111853e-02, 6.7335807e-02]], dtype=float32),\n",
       " (23174, 62))"
      ]
     },
     "execution_count": 73,
     "metadata": {},
     "output_type": "execute_result"
    }
   ],
   "source": [
    "y_pred = model.predict(test_set)\n",
    "y_pred,y_pred.shape"
   ]
  },
  {
   "cell_type": "code",
   "execution_count": 76,
   "id": "ce9a48fc-326f-441a-b4b7-8382f4f4b7ed",
   "metadata": {},
   "outputs": [],
   "source": [
    "predicted_categories = tf.argmax(y_pred,axis=1)"
   ]
  },
  {
   "cell_type": "code",
   "execution_count": 78,
   "id": "56a23f36-f328-4028-8bcc-824f37f393c6",
   "metadata": {},
   "outputs": [
    {
     "data": {
      "text/plain": [
       "<tf.Tensor: shape=(23174,), dtype=int64, numpy=array([ 0,  0,  0, ..., 60,  4, 11], dtype=int64)>"
      ]
     },
     "execution_count": 78,
     "metadata": {},
     "output_type": "execute_result"
    }
   ],
   "source": [
    "predicted_categories "
   ]
  },
  {
   "cell_type": "code",
   "execution_count": 80,
   "id": "6fd344ff-8d89-4b23-ade3-4ffa911127b1",
   "metadata": {},
   "outputs": [
    {
     "data": {
      "text/plain": [
       "<tf.Tensor: shape=(23174, 62), dtype=float32, numpy=\n",
       "array([[1., 0., 0., ..., 0., 0., 0.],\n",
       "       [1., 0., 0., ..., 0., 0., 0.],\n",
       "       [1., 0., 0., ..., 0., 0., 0.],\n",
       "       ...,\n",
       "       [0., 0., 0., ..., 0., 0., 1.],\n",
       "       [0., 0., 0., ..., 0., 0., 1.],\n",
       "       [0., 0., 0., ..., 0., 0., 1.]], dtype=float32)>"
      ]
     },
     "execution_count": 80,
     "metadata": {},
     "output_type": "execute_result"
    }
   ],
   "source": [
    "true_categories = tf.concat([y for x,y in test_set],axis=0)\n",
    "true_categories"
   ]
  },
  {
   "cell_type": "code",
   "execution_count": 81,
   "id": "bbb844c3-8f28-4184-a7f5-73525590b9df",
   "metadata": {},
   "outputs": [
    {
     "data": {
      "text/plain": [
       "<tf.Tensor: shape=(23174,), dtype=int64, numpy=array([ 0,  0,  0, ..., 61, 61, 61], dtype=int64)>"
      ]
     },
     "execution_count": 81,
     "metadata": {},
     "output_type": "execute_result"
    }
   ],
   "source": [
    "Y_true = tf.argmax(true_categories,axis=1)\n",
    "Y_true"
   ]
  },
  {
   "cell_type": "code",
   "execution_count": 82,
   "id": "d5d4468e-794b-4f5d-9653-fea648d121a6",
   "metadata": {},
   "outputs": [],
   "source": [
    "from sklearn.metrics import classification_report,confusion_matrix"
   ]
  },
  {
   "cell_type": "code",
   "execution_count": 83,
   "id": "9b9ced9c-5af6-40ff-ad62-d34e13ba1cf1",
   "metadata": {},
   "outputs": [
    {
     "name": "stdout",
     "output_type": "stream",
     "text": [
      "                                                    precision    recall  f1-score   support\n",
      "\n",
      "                                Apple___Apple_scab       0.98      0.96      0.97       504\n",
      "                                 Apple___Black_rot       0.94      1.00      0.97       497\n",
      "                          Apple___Cedar_apple_rust       0.98      0.97      0.97       440\n",
      "                                   Apple___healthy       0.96      0.98      0.97       502\n",
      "                 Banana Bract Mosaic Virus Disease       0.96      0.86      0.91        50\n",
      "                        Banana Insect Pest Disease       0.82      0.98      0.89        86\n",
      "                               Banana Moko Disease       0.86      0.78      0.82        55\n",
      "                             Banana Panama Disease       0.69      1.00      0.82        41\n",
      "                               Blueberry___healthy       0.98      0.97      0.97       454\n",
      "          Cherry_(including_sour)___Powdery_mildew       1.00      0.99      0.99       421\n",
      "                 Cherry_(including_sour)___healthy       0.98      1.00      0.99       456\n",
      "Corn_(maize)___Cercospora_leaf_spot Gray_leaf_spot       0.79      0.97      0.87       410\n",
      "                       Corn_(maize)___Common_rust_       0.99      0.99      0.99       477\n",
      "               Corn_(maize)___Northern_Leaf_Blight       0.91      0.94      0.93       477\n",
      "                            Corn_(maize)___healthy       0.99      0.98      0.99       465\n",
      "                                 Grape___Black_rot       0.98      0.95      0.97       472\n",
      "                      Grape___Esca_(Black_Measles)       0.98      0.99      0.98       480\n",
      "        Grape___Leaf_blight_(Isariopsis_Leaf_Spot)       0.95      1.00      0.98       430\n",
      "                                   Grape___healthy       0.99      1.00      0.99       423\n",
      "                         Healthy_Leaf_of_Jackfruit       0.00      0.00      0.00       368\n",
      "                     Jackfruit_Algal_Leaf_Spot_of_       0.00      0.00      0.00      1362\n",
      "                          Jackfruit_Black_Spot_of_       0.00      0.00      0.00       977\n",
      "          Orange___Haunglongbing_(Citrus_greening)       1.00      0.99      0.99       503\n",
      "                            Peach___Bacterial_spot       0.93      0.97      0.95       459\n",
      "                                   Peach___healthy       1.00      0.97      0.99       432\n",
      "                     Pepper,_bell___Bacterial_spot       0.98      0.91      0.94       478\n",
      "                            Pepper,_bell___healthy       0.98      0.94      0.96       497\n",
      "                             Potato___Early_blight       0.97      0.99      0.98       485\n",
      "                              Potato___Late_blight       0.95      0.99      0.97       485\n",
      "                                  Potato___healthy       0.97      0.98      0.98       456\n",
      "                               Raspberry___healthy       0.94      1.00      0.97       445\n",
      "                                 Soybean___healthy       0.99      0.94      0.96       505\n",
      "                           Squash___Powdery_mildew       0.98      0.99      0.98       434\n",
      "                          Strawberry___Leaf_scorch       0.99      0.97      0.98       444\n",
      "                              Strawberry___healthy       1.00      0.99      0.99       456\n",
      "                           Tomato___Bacterial_spot       0.92      0.99      0.95       425\n",
      "                             Tomato___Early_blight       0.97      0.88      0.92       480\n",
      "                              Tomato___Late_blight       0.94      0.90      0.92       463\n",
      "                                Tomato___Leaf_Mold       0.98      0.97      0.97       470\n",
      "                       Tomato___Septoria_leaf_spot       0.95      0.92      0.93       436\n",
      "     Tomato___Spider_mites Two-spotted_spider_mite       0.95      0.96      0.96       435\n",
      "                              Tomato___Target_Spot       0.96      0.92      0.94       457\n",
      "            Tomato___Tomato_Yellow_Leaf_Curl_Virus       0.99      0.99      0.99       490\n",
      "                      Tomato___Tomato_mosaic_virus       0.97      1.00      0.98       448\n",
      "                                  Tomato___healthy       0.99      0.99      0.99       481\n",
      "                                    banana_cordana       1.00      0.93      0.96       162\n",
      "                                    banana_healthy       1.00      0.99      1.00       215\n",
      "                             banana_pestalotiopsis       0.91      0.97      0.94       173\n",
      "                                   banana_sigatoka       0.97      0.97      0.97       563\n",
      "                               mango_Anthracnose-v       0.96      0.97      0.97       116\n",
      "                            mango_Bacterial Canker       0.92      0.97      0.94       123\n",
      "                              mango_Cutting Weevil       1.00      1.00      1.00       123\n",
      "                                    mango_Die Back       1.00      0.94      0.97       123\n",
      "                                  mango_Gall Midge       0.89      0.90      0.90       123\n",
      "                                     mango_Healthy       0.98      1.00      0.99       123\n",
      "                              mango_Powdery Mildew       0.91      0.94      0.93       123\n",
      "                                 mango_Sooty Mould       0.92      0.89      0.90       123\n",
      "                                 sugarcane_Healthy       0.82      0.75      0.78       132\n",
      "                                  sugarcane_Mosaic       0.66      0.72      0.69        96\n",
      "                                  sugarcane_RedRot       0.95      0.68      0.80       120\n",
      "                                    sugarcane_Rust       0.77      0.69      0.73       117\n",
      "                               sugarcane_YellowRot       0.92      0.68      0.78       108\n",
      "\n",
      "                                          accuracy                           0.85     23174\n",
      "                                         macro avg       0.90      0.89      0.89     23174\n",
      "                                      weighted avg       0.85      0.85      0.85     23174\n",
      "\n"
     ]
    }
   ],
   "source": [
    "print(classification_report(Y_true,predicted_categories,target_names=class_name))"
   ]
  },
  {
   "cell_type": "code",
   "execution_count": 84,
   "id": "e9ddbed8-5df7-4c85-b695-3339e65ad0c6",
   "metadata": {},
   "outputs": [
    {
     "data": {
      "text/plain": [
       "array([[484,   5,   0, ...,   0,   0,   0],\n",
       "       [  1, 495,   1, ...,   0,   0,   0],\n",
       "       [  0,   0, 427, ...,   0,   0,   0],\n",
       "       ...,\n",
       "       [  0,   0,   0, ...,  82,  12,   4],\n",
       "       [  0,   0,   0, ...,   0,  81,   1],\n",
       "       [  0,   0,   0, ...,   4,   1,  73]], dtype=int64)"
      ]
     },
     "execution_count": 84,
     "metadata": {},
     "output_type": "execute_result"
    }
   ],
   "source": [
    "cm = confusion_matrix(Y_true,predicted_categories)\n",
    "cm"
   ]
  },
  {
   "cell_type": "markdown",
   "id": "0f16502e-95bb-4b16-be66-36c57740a3df",
   "metadata": {},
   "source": [
    "## confucion matrix visualization"
   ]
  },
  {
   "cell_type": "code",
   "execution_count": 86,
   "id": "f6f41cba-5927-42f4-977d-4a8240222e95",
   "metadata": {},
   "outputs": [
    {
     "data": {
      "image/png": "[encoded data removed]",
      "text/plain": [
       "<Figure size 4000x4000 with 2 Axes>"
      ]
     },
     "metadata": {},
     "output_type": "display_data"
    }
   ],
   "source": [
    "plt.figure(figsize=(40,40))\n",
    "sns.heatmap(cm,annot=True)\n",
    "plt.xlabel(\"Predicted class\",fontsize=20)\n",
    "plt.ylabel(\"Actua class\",fontsize=20)\n",
    "plt.title(\"plant diesase prediction\",fontsize=25)\n",
    "plt.show()"
   ]
  },
  {
   "cell_type": "code",
   "execution_count": null,
   "id": "f0bf7b6d-82d7-442a-a69d-65f20c4c2cd0",
   "metadata": {},
   "outputs": [],
   "source": []
  }
 ],
 "metadata": {
  "kernelspec": {
   "display_name": "Python 3 (ipykernel)",
   "language": "python",
   "name": "python3"
  },
  "language_info": {
   "codemirror_mode": {
    "name": "ipython",
    "version": 3
   },
   "file_extension": ".py",
   "mimetype": "text/x-python",
   "name": "python",
   "nbconvert_exporter": "python",
   "pygments_lexer": "ipython3",
   "version": "3.11.7"
  }
 },
 "nbformat": 4,
 "nbformat_minor": 5
}
